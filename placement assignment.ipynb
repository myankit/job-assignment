{
 "cells": [
  {
   "cell_type": "code",
   "execution_count": 129,
   "id": "5807384b",
   "metadata": {},
   "outputs": [],
   "source": [
    "file=open(\"example.txt\",\"w\")\n",
    "file.write(\"this is a placement assignment\")\n",
    "file.close()"
   ]
  },
  {
   "cell_type": "code",
   "execution_count": 145,
   "id": "31cc0308",
   "metadata": {},
   "outputs": [],
   "source": [
    "def read_txt():\n",
    "    f=open(\"example.txt\",\"r\")\n",
    "    str=f.read()\n",
    "    str=str.replace(\"placement\",\"screening\")\n",
    "    f.close()\n",
    "    f=open(\"example.txt\",\"w\")\n",
    "    f.write(str)\n",
    "    f.close()\n",
    "    f=open(\"example.txt\",\"r\")\n",
    "    new_file=f.read()\n",
    "    return(new_file)\n",
    "    "
   ]
  },
  {
   "cell_type": "code",
   "execution_count": 146,
   "id": "2c152d21",
   "metadata": {},
   "outputs": [
    {
     "data": {
      "text/plain": [
       "'this is a screening assignment'"
      ]
     },
     "execution_count": 146,
     "metadata": {},
     "output_type": "execute_result"
    }
   ],
   "source": [
    "read_txt()"
   ]
  },
  {
   "cell_type": "code",
   "execution_count": 5,
   "id": "56dabc8d",
   "metadata": {},
   "outputs": [
    {
     "name": "stdout",
     "output_type": "stream",
     "text": [
      "square is equal to 9\n",
      "qube is equal to 8\n"
     ]
    }
   ],
   "source": [
    "#demonstrate use of abstract class.\n",
    "# an abstract class can be considered as a base model or blueprint of other child classes.an abstract class may contain abstracty methods\n",
    "#whose implementation can be later defined in the sub class.\n",
    "# a python program to demonstrate abstract class.\n",
    "\n",
    "from abc import*                  # all abstract class are deriverd from meta class ABC\n",
    "class Myclass1(ABC):              #creates Myclass1 as an abstract class\n",
    "    @abstractmethod               # decorator to mention abstract method.\n",
    "    def calculate(self,x):\n",
    "        pass                      # no body.\n",
    "class child1(Myclass1):            # sub class of Myclass\n",
    "    def calculate(self,x):\n",
    "        print(\"square is equal to\",x*x)\n",
    "class child2(Myclass1):\n",
    "    def calculate(self,x):\n",
    "        print(\"qube is equal to\",x**3)\n",
    "A1=child1()\n",
    "A1.calculate(3)\n",
    "\n",
    "A2=child2()\n",
    "A2.calculate(2)\n",
    "    \n",
    "    \n",
    "\n"
   ]
  },
  {
   "cell_type": "code",
   "execution_count": 2,
   "id": "97755642",
   "metadata": {},
   "outputs": [
    {
     "name": "stdout",
     "output_type": "stream",
     "text": [
      "child has inherted from father and mother\n",
      "height is 6 ft\n",
      "weight is 6 kg\n"
     ]
    }
   ],
   "source": [
    "#multiple inheritance\n",
    "# deriving sub classes from multiple(more than one) base class is called multiple inheritance\n",
    "#example\n",
    "class father:\n",
    "    def weight(self):\n",
    "        print(\"weight is 6 kg\")\n",
    "class mother:\n",
    "    def height(self):\n",
    "        print(\"height is 6 ft\")\n",
    "class child(father,mother):\n",
    "    pass\n",
    "A=child()\n",
    "print(\"child has inherted from father and mother\")\n",
    "A.height()\n",
    "A.weight()\n",
    "              "
   ]
  },
  {
   "cell_type": "code",
   "execution_count": 6,
   "id": "e7b069ea",
   "metadata": {},
   "outputs": [
    {
     "name": "stdout",
     "output_type": "stream",
     "text": [
      "call 1 to spam\n",
      "6\n",
      "call 2 to spam\n",
      "abc\n"
     ]
    }
   ],
   "source": [
    "#decorators\n",
    "#the are used to change the behaviour of a particular function without modifying it.\n",
    "# example:\n",
    "class tracer:\n",
    "    def __init__(self,func):\n",
    "        self.calls=0\n",
    "        self.func=func\n",
    "    def __call__(self,*args):       # on later calls:add logic,run original\n",
    "        self.calls +=1\n",
    "        print('call %s to %s' %(self.calls,self.func.__name__))\n",
    "        return self.func(*args)\n",
    "@tracer                              #user defined decorator                            \n",
    "def spam(a,b,c):                     # wrap spam in a decorator object\n",
    "    return a+b+c\n",
    "print(spam(1,2,3))                   # calls the tracer wrapper object\n",
    "print(spam('a','b','c'))             # invokes __call__in class\n",
    "\n",
    "# because the spam function is run through the tracer decorator,when the original spam name is called it actually triggers the __call__\n",
    "# method in the class.this method counts and logs the call,and then dispatches it to the original wrapped function."
   ]
  },
  {
   "cell_type": "code",
   "execution_count": null,
   "id": "3c674231",
   "metadata": {},
   "outputs": [],
   "source": []
  }
 ],
 "metadata": {
  "kernelspec": {
   "display_name": "Python 3 (ipykernel)",
   "language": "python",
   "name": "python3"
  },
  "language_info": {
   "codemirror_mode": {
    "name": "ipython",
    "version": 3
   },
   "file_extension": ".py",
   "mimetype": "text/x-python",
   "name": "python",
   "nbconvert_exporter": "python",
   "pygments_lexer": "ipython3",
   "version": "3.9.12"
  }
 },
 "nbformat": 4,
 "nbformat_minor": 5
}
